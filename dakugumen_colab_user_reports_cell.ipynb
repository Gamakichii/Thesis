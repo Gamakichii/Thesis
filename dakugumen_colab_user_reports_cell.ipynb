{
  "cells": [
    {
      "cell_type": "code",
      "execution_count": null,
      "metadata": {},
      "outputs": [],
      "source": [
        "# Build user_reports_data from df_user for GCN / fusion grid-search\n",
        "# Run this cell before the fusion-weight grid-search cell.\n",
        "import ast\n",
        "\n",
        "user_reports_data = []\n",
        "if 'df_user' in globals() and not df_user.empty:\n",
        "    for _, r in df_user.iterrows():\n",
        "        postId = r.get('post_id') or r.get('postId') or None\n",
        "        urls = r.get('urls') or []\n",
        "        # if stored as string, try to parse\n",
        "        if isinstance(urls, str):\n",
        "            try:\n",
        "                urls = ast.literal_eval(urls)\n",
        "            except Exception:\n",
        "                urls = [urls]\n",
        "        rtype = r.get('type') if 'type' in r.index else None\n",
        "        true_label = None\n",
        "        try:\n",
        "            if 'label' in r.index and (int(r['label']) == 0 or int(r['label']) == 1):\n",
        "                true_label = int(r['label'])\n",
        "            else:\n",
        "                true_label = 1 if (rtype in ('false_negative', 'true_positive')) else 0\n",
        "        except Exception:\n",
        "            true_label = 0 if (rtype in ('true_negative','false_positive')) else 0\n",
        "        user_reports_data.append({'postId': postId, 'true_label': true_label, 'urls': urls})\n",
        "    print('Built user_reports_data with', len(user_reports_data), 'entries')\n",
        "else:\n",
        "    print('df_user not present or empty; user_reports_data not created')\n",
        "\n"
      ]
    }
  ],
  "metadata": {
    "language_info": {
      "name": "python"
    }
  },
  "nbformat": 4,
  "nbformat_minor": 2
}
